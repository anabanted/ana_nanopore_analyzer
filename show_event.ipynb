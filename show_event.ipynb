{
 "cells": [
  {
   "cell_type": "markdown",
   "id": "bae162c4-8af3-42cc-806f-660d3c9d28c0",
   "metadata": {},
   "source": [
    "# Code"
   ]
  },
  {
   "cell_type": "code",
   "execution_count": 1,
   "id": "15ca39a2-189d-4b84-8e03-885a667f6eec",
   "metadata": {
    "tags": []
   },
   "outputs": [],
   "source": [
    "import pathlib\n",
    "from ipywidgets import interact, Select, Text, IntSlider\n",
    "import nanopore_event\n",
    "from tqdm.notebook import tqdm\n",
    "\n",
    "def event_list(path: str):\n",
    "    event_dir = pathlib.Path(path)\n",
    "    return list(event_dir.iterdir())\n",
    "\n",
    "def filter_events(event_filter, event_list):\n",
    "    filtered_events = [event for event in tqdm(event_list, desc=\"Filtering\") if event_filter(event)]\n",
    "    print(f\"{len(filtered_events)}/{len(event_list)}: {int(len(filtered_events)/len(event_list)*100)}%\")\n",
    "    return filtered_events\n",
    "\n",
    "def plot_scatter(event_filter, default_filter=lambda x: True, right=1000):\n",
    "    all_events = event_list(events_path.value)\n",
    "    filtered_events = filter_events(default_filter, all_events)\n",
    "    target_events = filter_events(event_filter, filtered_events)\n",
    "    nanopore_event.AllEvent(all_events).scatter_dwelltime_maxcurrent(right=right)\n",
    "    nanopore_event.AllEvent(filtered_events).scatter_dwelltime_maxcurrent(right=right)\n",
    "    nanopore_event.AllEvent(target_events).scatter_dwelltime_maxcurrent(right=right)\n",
    "\n",
    "\n",
    "def plot_event(event_path):\n",
    "    event = nanopore_event.Event(event_path)\n",
    "    event.plot()\n",
    "    \n",
    "def plot_opt_event(event_path, Kmax=5):\n",
    "    event = nanopore_event.Event(event_path)\n",
    "    event.plot_opt(Kmax=Kmax)\n",
    "    "
   ]
  },
  {
   "cell_type": "markdown",
   "id": "f22ac6ee-8f63-4860-b829-b5fd76d2fde8",
   "metadata": {},
   "source": [
    "# Directory Selection"
   ]
  },
  {
   "cell_type": "code",
   "execution_count": 2,
   "id": "ec01a96e-aecb-49f4-a40c-890505b5bf1a",
   "metadata": {
    "tags": []
   },
   "outputs": [
    {
     "data": {
      "application/vnd.jupyter.widget-view+json": {
       "model_id": "d3425bc31cf941b4877dfd4599f765bf",
       "version_major": 2,
       "version_minor": 0
      },
      "text/plain": [
       "Text(value='./output/events', placeholder='./output/events')"
      ]
     },
     "metadata": {},
     "output_type": "display_data"
    }
   ],
   "source": [
    "events_path = Text(value = \"./output/events\", placeholder=\"./output/events\")\n",
    "display(events_path)"
   ]
  },
  {
   "cell_type": "markdown",
   "id": "558114e6-3915-481c-a9d6-bb2ec08cfeeb",
   "metadata": {},
   "source": [
    "# K_max"
   ]
  },
  {
   "cell_type": "code",
   "execution_count": 3,
   "id": "1c825fbf-fdf9-432c-b480-464f9712a195",
   "metadata": {
    "tags": []
   },
   "outputs": [
    {
     "data": {
      "application/vnd.jupyter.widget-view+json": {
       "model_id": "bc08c8512c32455c89217ca56d78d997",
       "version_major": 2,
       "version_minor": 0
      },
      "text/plain": [
       "IntSlider(value=5, description='Kmax', max=10, min=1)"
      ]
     },
     "metadata": {},
     "output_type": "display_data"
    }
   ],
   "source": [
    "Kmax = IntSlider(value=5, min=1, max=10, step=1, description=\"Kmax\")\n",
    "display(Kmax)"
   ]
  },
  {
   "cell_type": "markdown",
   "id": "f7801cf1-7736-4f19-a387-6578737bc819",
   "metadata": {},
   "source": [
    "# Filter Selection"
   ]
  },
  {
   "cell_type": "markdown",
   "id": "4d6897c4-62c5-43bb-bbb6-a8bfedcbc438",
   "metadata": {},
   "source": [
    "## Default Filter Selection"
   ]
  },
  {
   "cell_type": "code",
   "execution_count": 4,
   "id": "86f71f5b-3239-4ec0-ab65-ee3e14cd15d3",
   "metadata": {
    "tags": []
   },
   "outputs": [
    {
     "data": {
      "application/vnd.jupyter.widget-view+json": {
       "model_id": "3c42959ea9da47f59c9c01486c668585",
       "version_major": 2,
       "version_minor": 0
      },
      "text/plain": [
       "Select(options={'All': <function <lambda> at 0x7f5a0b926c00>, 'Threshold': <function threshold_filter.<locals>…"
      ]
     },
     "metadata": {},
     "output_type": "display_data"
    }
   ],
   "source": [
    "all_filter = lambda event_path: True\n",
    "\n",
    "def threshold_filter(threshold):\n",
    "    return lambda event_path: nanopore_event.Event(event_path).max_current()>threshold\n",
    "\n",
    "def n_peak_filter(n):\n",
    "    return lambda event_path: nanopore_event.Event(event_path).count_peak(Kmax=Kmax.value) == n\n",
    "\n",
    "def dwell_time_filter(dt):\n",
    "    return lambda event_path: nanopore_event.Event(event_path).dwell_time()>dt\n",
    "\n",
    "\n",
    "filter_dict = {\"All\": all_filter,\n",
    "               \"Threshold\": threshold_filter(-3400),\n",
    "               \"Two Peak\": n_peak_filter(2),\n",
    "               \"Dwell Time\": dwell_time_filter(20)}\n",
    "default_filter_widget = Select(options=filter_dict)\n",
    "display(default_filter_widget)"
   ]
  },
  {
   "cell_type": "markdown",
   "id": "d0842a1c-1f64-410a-84c1-30e35c50937f",
   "metadata": {},
   "source": [
    "## Target Filter Selection"
   ]
  },
  {
   "cell_type": "code",
   "execution_count": 5,
   "id": "89b1598f-1946-421a-a7e2-a967c7ad7e52",
   "metadata": {
    "tags": []
   },
   "outputs": [
    {
     "data": {
      "application/vnd.jupyter.widget-view+json": {
       "model_id": "f32e1f75e98346c9a3ba56ce4f566df8",
       "version_major": 2,
       "version_minor": 0
      },
      "text/plain": [
       "Select(options={'All': <function <lambda> at 0x7f5a0b926c00>, 'Threshold': <function threshold_filter.<locals>…"
      ]
     },
     "metadata": {},
     "output_type": "display_data"
    }
   ],
   "source": [
    "filter_widget = Select(options=filter_dict)\n",
    "display(filter_widget)"
   ]
  },
  {
   "cell_type": "markdown",
   "id": "11c76b7f-ee02-4fe9-b65c-16a126ef58f8",
   "metadata": {},
   "source": [
    "# Scatter Plot"
   ]
  },
  {
   "cell_type": "code",
   "execution_count": 12,
   "id": "ea286733-bca3-4343-abb0-3b8289cc0811",
   "metadata": {
    "tags": []
   },
   "outputs": [
    {
     "data": {
      "application/vnd.jupyter.widget-view+json": {
       "model_id": "564e170728ab4c99bb15e031832f9af8",
       "version_major": 2,
       "version_minor": 0
      },
      "text/plain": [
       "Filtering:   0%|          | 0/296 [00:00<?, ?it/s]"
      ]
     },
     "metadata": {},
     "output_type": "display_data"
    },
    {
     "name": "stdout",
     "output_type": "stream",
     "text": [
      "255/296: 86%\n"
     ]
    },
    {
     "data": {
      "application/vnd.jupyter.widget-view+json": {
       "model_id": "31f5a8da5d814623bc4b1ac3e14ebc61",
       "version_major": 2,
       "version_minor": 0
      },
      "text/plain": [
       "Filtering:   0%|          | 0/255 [00:00<?, ?it/s]"
      ]
     },
     "metadata": {},
     "output_type": "display_data"
    },
    {
     "name": "stdout",
     "output_type": "stream",
     "text": [
      "105/255: 41%\n"
     ]
    },
    {
     "data": {
      "image/png": "[encoded data removed]",
      "text/plain": [
       "<Figure size 640x480 with 1 Axes>"
      ]
     },
     "metadata": {},
     "output_type": "display_data"
    }
   ],
   "source": [
    "plot_scatter(filter_widget.value, default_filter=default_filter_widget.value)"
   ]
  },
  {
   "cell_type": "markdown",
   "id": "f875b967-f0bb-4f7e-9363-c6d33c49d39c",
   "metadata": {},
   "source": [
    "# Event Plot"
   ]
  },
  {
   "cell_type": "code",
   "execution_count": 7,
   "id": "a7a64601-f767-4c1b-9735-621938e5264c",
   "metadata": {
    "tags": []
   },
   "outputs": [
    {
     "data": {
      "application/vnd.jupyter.widget-view+json": {
       "model_id": "50fdd68c090947e889655b4dc042acba",
       "version_major": 2,
       "version_minor": 0
      },
      "text/plain": [
       "Filtering:   0%|          | 0/399 [00:00<?, ?it/s]"
      ]
     },
     "metadata": {},
     "output_type": "display_data"
    },
    {
     "name": "stdout",
     "output_type": "stream",
     "text": [
      "159/399: 39%\n"
     ]
    },
    {
     "data": {
      "application/vnd.jupyter.widget-view+json": {
       "model_id": "19e64111851a45a58c1e3ce55a1e0a73",
       "version_major": 2,
       "version_minor": 0
      },
      "text/plain": [
       "interactive(children=(Dropdown(description='event_csv', options=(PosixPath('output/events/event_00001655.csv')…"
      ]
     },
     "metadata": {},
     "output_type": "display_data"
    },
    {
     "data": {
      "text/plain": [
       "<function __main__.plot(event_csv, use_model)>"
      ]
     },
     "execution_count": 7,
     "metadata": {},
     "output_type": "execute_result"
    }
   ],
   "source": [
    "def plot(event_csv, use_model):\n",
    "    if use_model:\n",
    "        plot_opt_event(event_csv, Kmax=Kmax.value)\n",
    "    else:\n",
    "        plot_event(event_csv)\n",
    "        \n",
    "interact(plot, event_csv = filter_events(lambda events_path: default_filter_widget.value(events_path) and filter_widget.value(events_path), event_list(events_path.value)), use_model=True)"
   ]
  },
  {
   "cell_type": "code",
   "execution_count": null,
   "id": "7fb2a4ca-a324-4062-8763-1293f552413c",
   "metadata": {},
   "outputs": [],
   "source": []
  }
 ],
 "metadata": {
  "kernelspec": {
   "display_name": "Python 3 (ipykernel)",
   "language": "python",
   "name": "python3"
  },
  "language_info": {
   "codemirror_mode": {
    "name": "ipython",
    "version": 3
   },
   "file_extension": ".py",
   "mimetype": "text/x-python",
   "name": "python",
   "nbconvert_exporter": "python",
   "pygments_lexer": "ipython3",
   "version": "3.11.5"
  }
 },
 "nbformat": 4,
 "nbformat_minor": 5
}
